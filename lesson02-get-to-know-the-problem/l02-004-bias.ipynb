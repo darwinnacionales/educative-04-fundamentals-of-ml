{
 "cells": [
  {
   "cell_type": "code",
   "execution_count": 1,
   "id": "4b7033c1",
   "metadata": {},
   "outputs": [
    {
     "name": "stdout",
     "output_type": "stream",
     "text": [
      "Iteration    0 => Loss: 812.866667\n",
      "Iteration  300 => Loss: 61.714587\n",
      "Iteration  600 => Loss: 45.581253\n",
      "Iteration  900 => Loss: 33.776567\n",
      "Iteration 1200 => Loss: 26.229313\n",
      "Iteration 1500 => Loss: 22.988587\n",
      "\n",
      "w=1.100, b=12.930\n",
      "Prediction: x=20 => y=34.93\n"
     ]
    }
   ],
   "source": [
    "import numpy as np\n",
    "\n",
    "\n",
    "def predict(X, w, b):\n",
    "    return X * w + b\n",
    "\n",
    "\n",
    "def loss(X, Y, w, b):\n",
    "    return np.average((predict(X, w, b) - Y) ** 2)\n",
    "\n",
    "\n",
    "def train(X, Y, iterations, lr):\n",
    "    w = b = 0\n",
    "    for i in range(iterations):\n",
    "        current_loss = loss(X, Y, w, b)\n",
    "        if i % 300 == 0:\n",
    "            print(\"Iteration %4d => Loss: %.6f\" % (i, current_loss))\n",
    "\n",
    "        if loss(X, Y, w + lr, b) < current_loss: # Updating weight\n",
    "            w += lr\n",
    "        elif loss(X, Y, w - lr, b) < current_loss: # Updating weight\n",
    "            w -= lr\n",
    "        elif loss(X, Y, w, b + lr) < current_loss: # Updating bias\n",
    "            b += lr\n",
    "        elif loss(X, Y, w, b - lr) < current_loss: # Updating bias\n",
    "            b -= lr\n",
    "        else:\n",
    "            return w, b\n",
    "\n",
    "    raise Exception(\"Couldn't converge within %d iterations\" % iterations)\n",
    "\n",
    "\n",
    "# Import the dataset\n",
    "X, Y = np.loadtxt(\"pizza.txt\", skiprows=1, unpack=True)\n",
    "\n",
    "# Train the system\n",
    "w, b = train(X, Y, iterations=10000, lr=0.01)\n",
    "print(\"\\nw=%.3f, b=%.3f\" % (w, b))\n",
    "\n",
    "# Predict the number of pizzas\n",
    "print(\"Prediction: x=%d => y=%.2f\" % (20, predict(20, w, b)))\n"
   ]
  },
  {
   "cell_type": "code",
   "execution_count": null,
   "id": "1ca32894",
   "metadata": {},
   "outputs": [],
   "source": []
  }
 ],
 "metadata": {
  "kernelspec": {
   "display_name": "venv",
   "language": "python",
   "name": "python3"
  },
  "language_info": {
   "codemirror_mode": {
    "name": "ipython",
    "version": 3
   },
   "file_extension": ".py",
   "mimetype": "text/x-python",
   "name": "python",
   "nbconvert_exporter": "python",
   "pygments_lexer": "ipython3",
   "version": "3.13.1"
  }
 },
 "nbformat": 4,
 "nbformat_minor": 5
}
