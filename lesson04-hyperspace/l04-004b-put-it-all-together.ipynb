{
 "cells": [
  {
   "cell_type": "code",
   "execution_count": 2,
   "id": "7d8e0bc5",
   "metadata": {},
   "outputs": [
    {
     "name": "stdout",
     "output_type": "stream",
     "text": [
      "Iteration    0 => Loss: 1333.56666666666660603369\n",
      "Iteration    1 => Loss: 152.37148173674077611395\n",
      "Iteration    2 => Loss: 65.17252143398704333777\n",
      "Iteration    3 => Loss: 57.29348107043312410269\n",
      "Iteration    4 => Loss: 55.24408375010616367717\n",
      "Iteration    5 => Loss: 53.69548034496938981874\n",
      "Iteration    6 => Loss: 52.25567333361473032483\n",
      "Iteration    7 => Loss: 50.89073275996360479212\n",
      "Iteration    8 => Loss: 49.59315053477826040762\n",
      "Iteration    9 => Loss: 48.35777747932070980141\n",
      "Iteration 10000 => Loss: 6.75192610145853588932\n",
      "Iteration 20000 => Loss: 6.71214518173466334616\n",
      "Iteration 30000 => Loss: 6.70180749817668974799\n",
      "Iteration 40000 => Loss: 6.69912109217888307455\n",
      "Iteration 50000 => Loss: 6.69842298828117144183\n",
      "Iteration 60000 => Loss: 6.69824157525112351408\n",
      "Iteration 70000 => Loss: 6.69819443228633826237\n",
      "Iteration 80000 => Loss: 6.69818218146218313791\n",
      "Iteration 90000 => Loss: 6.69817899789720083703\n",
      "Iteration 99990 => Loss: 6.69817817099058565589\n",
      "Iteration 99991 => Loss: 6.69817817095139211858\n",
      "Iteration 99992 => Loss: 6.69817817091220835124\n",
      "Iteration 99993 => Loss: 6.69817817087302014301\n",
      "Iteration 99994 => Loss: 6.69817817083384436927\n",
      "Iteration 99995 => Loss: 6.69817817079467214825\n",
      "Iteration 99996 => Loss: 6.69817817075550525630\n",
      "Iteration 99997 => Loss: 6.69817817071634014070\n",
      "Iteration 99998 => Loss: 6.69817817067718923596\n",
      "Iteration 99999 => Loss: 6.69817817063803566668\n",
      "\n",
      "Weights: [[ 2.41178207  1.23368396 -0.02689984  3.12460558]]\n",
      "\n",
      "A few predictions:\n",
      "X[0] -> 45.8717 (label: 44)\n",
      "X[1] -> 23.2502 (label: 23)\n",
      "X[2] -> 28.5192 (label: 28)\n",
      "X[3] -> 58.2355 (label: 60)\n",
      "X[4] -> 42.8009 (label: 42)\n"
     ]
    }
   ],
   "source": [
    "import numpy as np\n",
    "\n",
    "# computing the predictions\n",
    "def predict(X, w):\n",
    "    return np.matmul(X, w)\n",
    "\n",
    "# calculating the loss\n",
    "def loss(X, Y, w):\n",
    "    return np.average((predict(X, w) - Y) ** 2)\n",
    "\n",
    "# evaluating the gradient\n",
    "def gradient(X, Y, w):\n",
    "    return 2 * np.matmul(X.T, (predict(X, w) - Y)) / X.shape[0]\n",
    "\n",
    "# performing the training phase for our classifier\n",
    "def train(X, Y, iterations, lr):\n",
    "    w = np.zeros((X.shape[1], 1))\n",
    "    for i in range(iterations):\n",
    "        # Print first 10, last 10, and every 10% of total iterations\n",
    "        if (\n",
    "            i < 10 or\n",
    "            i >= iterations - 10 or\n",
    "            (iterations >= 20 and i % max(1, iterations // 10) == 0)\n",
    "        ):\n",
    "            print(\"Iteration %4d => Loss: %.20f\" % (i, loss(X, Y, w)))\n",
    "        w -= gradient(X, Y, w) * lr\n",
    "    return w\n",
    "\n",
    "# loading the data first and then training the classifier for 100,000 iteration\n",
    "x1, x2, x3, y = np.loadtxt(\"pizza_3_vars.txt\", skiprows=1, unpack=True)\n",
    "X = np.column_stack((np.ones(x1.size), x1, x2, x3))\n",
    "Y = y.reshape(-1, 1)\n",
    "w = train(X, Y, iterations=100000, lr=0.001)\n",
    "\n",
    "print(\"\\nWeights: %s\" % w.T)\n",
    "print(\"\\nA few predictions:\")\n",
    "for i in range(5):\n",
    "    print(\"X[%d] -> %.4f (label: %d)\" % (i, predict(X[i], w).item(), Y[i].item()))"
   ]
  },
  {
   "cell_type": "code",
   "execution_count": null,
   "id": "1246ff2d",
   "metadata": {},
   "outputs": [],
   "source": []
  }
 ],
 "metadata": {
  "kernelspec": {
   "display_name": "venv",
   "language": "python",
   "name": "python3"
  },
  "language_info": {
   "codemirror_mode": {
    "name": "ipython",
    "version": 3
   },
   "file_extension": ".py",
   "mimetype": "text/x-python",
   "name": "python",
   "nbconvert_exporter": "python",
   "pygments_lexer": "ipython3",
   "version": "3.13.1"
  }
 },
 "nbformat": 4,
 "nbformat_minor": 5
}
