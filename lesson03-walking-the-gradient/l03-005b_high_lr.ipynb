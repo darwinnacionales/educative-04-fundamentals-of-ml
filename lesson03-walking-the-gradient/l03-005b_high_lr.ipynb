{
 "cells": [
  {
   "cell_type": "code",
   "execution_count": 1,
   "metadata": {},
   "outputs": [
    {
     "name": "stdout",
     "output_type": "stream",
     "text": [
      "Iteration    0 => Loss: 812.8666666667\n",
      "Iteration   20 => Loss: 936643.0154726917\n",
      "Iteration   40 => Loss: 1178228410.1366090775\n",
      "Iteration   60 => Loss: 1482225943808.9438476562\n",
      "Iteration   80 => Loss: 1864658703394399.7500000000\n",
      "Iteration   99 => Loss: 1641723623748211456.0000000000\n",
      "\n",
      "w=-103195975.3396255672, b=-5981436.5131523078\n",
      "Prediction: x=20 => y=-2069900943.31\n"
     ]
    }
   ],
   "source": [
    "import numpy as np\n",
    "\n",
    "# Basically doing prediction\n",
    "def predict(X, w, b):\n",
    "    return X * w + b\n",
    "\n",
    "# Computing Loss \n",
    "def loss(X, Y, w, b):\n",
    "    return np.average((predict(X, w, b) - Y) ** 2)\n",
    "\n",
    "# calculating gradient\n",
    "def gradient(X, Y, w, b):\n",
    "    w_gradient = 2 * np.average(X * (predict(X, w, b) - Y))\n",
    "    b_gradient = 2 * np.average(predict(X, w, b) - Y)\n",
    "    return (w_gradient, b_gradient)\n",
    "\n",
    "# trainaing the classifier\n",
    "def train(X, Y, iterations, lr):\n",
    "    w = b = 0\n",
    "    for i in range(iterations):\n",
    "        if i%20 == 0 or i==99:\n",
    "            print(\"Iteration %4d => Loss: %.10f\" % (i, loss(X, Y, w, b)))\n",
    "        w_gradient, b_gradient = gradient(X, Y, w, b)\n",
    "        w -= w_gradient * lr\n",
    "        b -= b_gradient * lr\n",
    "    return w, b\n",
    "\n",
    "# Loading the dataset and then training the classifier for 100 iterations\n",
    "X, Y = np.loadtxt(\"pizza.txt\", skiprows=1, unpack=True)\n",
    "w, b = train(X, Y, iterations=100, lr=0.005)\n",
    "print(\"\\nw=%.10f, b=%.10f\" % (w, b))\n",
    "print(\"Prediction: x=%d => y=%.2f\" % (20, predict(20, w, b)))"
   ]
  }
 ],
 "metadata": {
  "kernelspec": {
   "display_name": "venv",
   "language": "python",
   "name": "python3"
  },
  "language_info": {
   "codemirror_mode": {
    "name": "ipython",
    "version": 3
   },
   "file_extension": ".py",
   "mimetype": "text/x-python",
   "name": "python",
   "nbconvert_exporter": "python",
   "pygments_lexer": "ipython3",
   "version": "3.13.1"
  }
 },
 "nbformat": 4,
 "nbformat_minor": 2
}
