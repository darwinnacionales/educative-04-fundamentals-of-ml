{
 "cells": [
  {
   "cell_type": "code",
   "execution_count": 2,
   "id": "6ca4dd1f",
   "metadata": {},
   "outputs": [],
   "source": [
    "import numpy as np\n",
    "X, Y = np.loadtxt(\"pizza.txt\", skiprows=1, unpack=True)"
   ]
  },
  {
   "cell_type": "code",
   "execution_count": 3,
   "id": "1671dbb8",
   "metadata": {},
   "outputs": [],
   "source": [
    "def predict(X, w, b):\n",
    "    return X * w + b"
   ]
  },
  {
   "cell_type": "code",
   "execution_count": 4,
   "id": "8aac3bc3",
   "metadata": {},
   "outputs": [],
   "source": [
    "def loss(X, Y, w, b):\n",
    "  return np.average((predict(X, w, b) - Y) ** 2)"
   ]
  },
  {
   "cell_type": "code",
   "execution_count": 5,
   "id": "11c97826",
   "metadata": {},
   "outputs": [],
   "source": [
    "def gradient(X, Y, w):\n",
    "  return 2 * np.average(X * (predict(X, w, 0) - Y))"
   ]
  },
  {
   "cell_type": "code",
   "execution_count": 10,
   "id": "52ea6eef",
   "metadata": {},
   "outputs": [],
   "source": [
    "def train(X, Y, iterations, lr):\n",
    "    w = 0\n",
    "    for i in range(iterations):\n",
    "        if i % 10 == 0:\n",
    "            print(\"Iteration %4d => Loss: %.10f\" % (i, loss(X, Y, w, 0)))\n",
    "        w -= gradient(X, Y, w) * lr\n",
    "    return w"
   ]
  },
  {
   "cell_type": "code",
   "execution_count": 11,
   "id": "9156a3d1",
   "metadata": {},
   "outputs": [
    {
     "name": "stdout",
     "output_type": "stream",
     "text": [
      "Iteration    0 => Loss: 812.8666666667\n",
      "Iteration   10 => Loss: 69.1284158205\n",
      "Iteration   20 => Loss: 69.1209629022\n",
      "Iteration   30 => Loss: 69.1209628275\n",
      "Iteration   40 => Loss: 69.1209628275\n",
      "Iteration   50 => Loss: 69.1209628275\n",
      "Iteration   60 => Loss: 69.1209628275\n",
      "Iteration   70 => Loss: 69.1209628275\n",
      "Iteration   80 => Loss: 69.1209628275\n",
      "Iteration   90 => Loss: 69.1209628275\n",
      "\n",
      "w=1.8436928702\n"
     ]
    }
   ],
   "source": [
    "w = train(X, Y, iterations=100, lr=0.001)\n",
    "print(\"\\nw=%.10f\" % w)"
   ]
  }
 ],
 "metadata": {
  "kernelspec": {
   "display_name": "venv",
   "language": "python",
   "name": "python3"
  },
  "language_info": {
   "codemirror_mode": {
    "name": "ipython",
    "version": 3
   },
   "file_extension": ".py",
   "mimetype": "text/x-python",
   "name": "python",
   "nbconvert_exporter": "python",
   "pygments_lexer": "ipython3",
   "version": "3.13.1"
  }
 },
 "nbformat": 4,
 "nbformat_minor": 5
}
