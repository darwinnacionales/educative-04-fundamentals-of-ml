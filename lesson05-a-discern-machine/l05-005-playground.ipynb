{
 "cells": [
  {
   "cell_type": "code",
   "execution_count": 2,
   "id": "8a880afa",
   "metadata": {},
   "outputs": [
    {
     "name": "stdout",
     "output_type": "stream",
     "text": [
      "Iteration    0 => Loss: 0.69314718055994495316\n",
      "Iteration 2000 => Loss: 0.38325599672775223503\n",
      "Iteration 4000 => Loss: 0.37387854860947766777\n",
      "Iteration 6000 => Loss: 0.37044524956911051294\n",
      "Iteration 8000 => Loss: 0.36797484381092526728\n",
      "Iteration 9999 => Loss: 0.36572874687292944440\n",
      "\n",
      "Success: 25/30 (83.33%)\n",
      "[[-0.37450392]\n",
      " [ 0.51754011]\n",
      " [-0.35263466]\n",
      " [ 0.25625742]]\n"
     ]
    }
   ],
   "source": [
    "import numpy as np\n",
    "\n",
    "# Applying Logistic Regression\n",
    "def sigmoid(z):\n",
    "    return 1 / (1 + np.exp(-z))\n",
    "\n",
    "# Basically doing prediction but named forward as its \n",
    "# performing Forward-Propagation\n",
    "def forward(X, w):\n",
    "    weighted_sum = np.matmul(X, w)\n",
    "    return sigmoid(weighted_sum)\n",
    "\n",
    "# Calling the predict() function\n",
    "def classify(X, w):\n",
    "    return np.round(forward(X, w))\n",
    "\n",
    "# Computing Loss over using logistic regression\n",
    "def loss(X, Y, w):\n",
    "    y_hat = forward(X, w)\n",
    "    first_term = Y * np.log(y_hat)\n",
    "    second_term = (1 - Y) * np.log(1 - y_hat)\n",
    "    return -np.average(first_term + second_term)\n",
    "\n",
    "# calculating gradient\n",
    "def gradient(X, Y, w):\n",
    "    return np.matmul(X.T, (forward(X, w) - Y)) / X.shape[0]\n",
    "\n",
    "# calling the training function for desired no. of iterations\n",
    "def train(X, Y, iterations, lr):\n",
    "    w = np.zeros((X.shape[1], 1))\n",
    "    for i in range(iterations):\n",
    "        if (i%2000==0 or i==9999):\n",
    "            print(\"Iteration %4d => Loss: %.20f\" % (i, loss(X, Y, w)))\n",
    "        w -= gradient(X, Y, w) * lr\n",
    "    return w\n",
    "\n",
    "# function for performing inference to test our model\n",
    "def test(X, Y, w):\n",
    "    total_examples = X.shape[0]\n",
    "    correct_results = np.sum(classify(X, w) == Y)\n",
    "    success_percent = correct_results * 100 / total_examples\n",
    "    print(\"\\nSuccess: %d/%d (%.2f%%)\" %\n",
    "          (correct_results, total_examples, success_percent))\n",
    "\n",
    "\n",
    "# Prepare data\n",
    "x1, x2, x3, y = np.loadtxt(\"police.txt\", skiprows=1, unpack=True)\n",
    "X = np.column_stack((np.ones(x1.size), x1, x2, x3))\n",
    "Y = y.reshape(-1, 1)\n",
    "w = train(X, Y, iterations=10000, lr=0.001)\n",
    "\n",
    "# Test it\n",
    "test(X, Y, w)\n",
    "\n",
    "# Print weights:\n",
    "print(w)"
   ]
  },
  {
   "cell_type": "code",
   "execution_count": null,
   "id": "f8ace579",
   "metadata": {},
   "outputs": [],
   "source": []
  }
 ],
 "metadata": {
  "kernelspec": {
   "display_name": "venv",
   "language": "python",
   "name": "python3"
  },
  "language_info": {
   "codemirror_mode": {
    "name": "ipython",
    "version": 3
   },
   "file_extension": ".py",
   "mimetype": "text/x-python",
   "name": "python",
   "nbconvert_exporter": "python",
   "pygments_lexer": "ipython3",
   "version": "3.13.1"
  }
 },
 "nbformat": 4,
 "nbformat_minor": 5
}
